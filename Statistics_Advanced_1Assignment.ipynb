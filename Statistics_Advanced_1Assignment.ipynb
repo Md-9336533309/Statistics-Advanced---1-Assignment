{
  "nbformat": 4,
  "nbformat_minor": 0,
  "metadata": {
    "colab": {
      "provenance": []
    },
    "kernelspec": {
      "name": "python3",
      "display_name": "Python 3"
    },
    "language_info": {
      "name": "python"
    }
  },
  "cells": [
    {
      "cell_type": "markdown",
      "source": [
        "# Statistics Advanced - 1| Assignment"
      ],
      "metadata": {
        "id": "ZLmPtYo4ZTJ3"
      }
    },
    {
      "cell_type": "markdown",
      "source": [
        "# Question 1: What is a random variable in probability theory?\n",
        "A random variable (RV) is a function that maps each possible outcome of a random process to a real number.\n",
        "It’s “random” because the value depends on chance.\n",
        "\n",
        "Example 1 — Tossing a coin\n",
        "\n",
        "Example 2 — Measuring height"
      ],
      "metadata": {
        "id": "aDJqUoBtZbdy"
      }
    },
    {
      "cell_type": "markdown",
      "source": [
        "# Question 2: What are the types of random variables?\n",
        "There are two types of Random Variables:\n",
        "\n",
        "1. Discrete Random Variable\n",
        "\n",
        "A Discrete random variable that can take only specific, countable values.\n",
        "\n",
        "Usually comes from counting things.\n",
        "\n",
        "Can be finite (like 0, 1, 2, 3) or countably infinite (like 0, 1, 2, … forever).\n",
        "\n",
        "Examples:\n",
        "\n",
        "Number of heads in 5 coin tosses → {0, 1, 2, 3, 4, 5}\n",
        "\n",
        "Number of students present in class today\n",
        "\n",
        "Number of emails you get in a day\n",
        "\n",
        "---------------------------------------------------------------\n",
        "2. Continuous Random Variable\n",
        "\n",
        "A random variable that can take any value in a range (uncountably infinite).\n",
        "\n",
        "Usually comes from measuring things.\n",
        "\n",
        "Values can be decimals or fractions.\n",
        "\n",
        "Examples:\n",
        "\n",
        "Height of a student (e.g., 165.4 cm)\n",
        "\n",
        "Time taken to complete a task (e.g., 12.37 seconds)\n",
        "\n",
        "Weight of a bag (e.g., 4.56 kg)\n"
      ],
      "metadata": {
        "id": "VYo9K8yUdVdZ"
      }
    },
    {
      "cell_type": "markdown",
      "source": [
        "# Question 3: Explain the difference between discrete and continuous distributions.\n",
        "\n",
        "# The Core Difference\n",
        "\n",
        "Discrete Distribution → Deals with countable outcomes (you can list them one by one).\n",
        "\n",
        "Continuous Distribution → Deals with uncountable outcomes (infinite possibilities within a range).\n",
        "\n",
        "--------------------------------------------------------\n",
        "\n",
        "# Discrete Distribution\n",
        "\n",
        "Values: Specific, separate numbers (e.g., 0, 1, 2, 3… no in-between).\n",
        "\n",
        "Example: Rolling a die → outcomes {1, 2, 3, 4, 5, 6}.\n",
        "\n",
        "Probability: Assigned to each exact value.\n",
        "\n",
        "Probability function: PMF (Probability Mass Function).\n",
        "\n",
        "Key point: You can count the possible outcomes.\n",
        "\n",
        "--------------------------\n",
        "\n",
        "# Continuous Distribution\n",
        "\n",
        "Values: Any number in a range, including fractions/decimals.\n",
        "\n",
        "Example: Height of a person → could be 165.4 cm, 165.45 cm, 165.456 cm, etc.\n",
        "\n",
        "Probability: Probability of one exact value is zero; instead, we talk about intervals.\n",
        "\n",
        "Probability function: PDF (Probability Density Function).\n",
        "\n",
        "Key point: You can measure possible outcomes, not count them.\n",
        "\n"
      ],
      "metadata": {
        "id": "lr72re4CgxdB"
      }
    },
    {
      "cell_type": "markdown",
      "source": [
        "# Question 4: What is a binomial distribution, and how is it used in probability?\n",
        "A binomial distribution is a probability distribution that models the number of successes in a fixed number of independent trials, where:\n",
        "\n",
        "Each trial has only two outcomes → success or failure.\n",
        "\n",
        "The probability of success (p) stays the same in every trial.\n",
        "\n",
        "---------\n",
        "\n",
        "Key Conditions\n",
        "\n",
        "For a situation to follow a binomial distribution:\n",
        "\n",
        "1. Fixed number of trials (n).\n",
        "\n",
        "2. Two possible outcomes (success/failure).\n",
        "\n",
        "3. Same probability of success in each trial (p).\n",
        "\n",
        "4. Trials are independent (one trial doesn’t affect the other).\n",
        "\n",
        "-----------\n",
        "\n",
        "Real-World Uses\n",
        "\n",
        "Quality control: Probability of finding defective items in a batch.\n",
        "\n",
        "Marketing: Probability that a certain number of people respond to an ad.\n",
        "\n",
        "Medicine: Probability that a drug works for a certain number of patients in a trial.\n",
        "\n",
        "\n",
        "         \n",
        "\n"
      ],
      "metadata": {
        "id": "GC4euFkANCnQ"
      }
    },
    {
      "cell_type": "markdown",
      "source": [
        "# Question 5: What is the standard normal distribution, and why is it important?\n",
        "# Definition\n",
        "\n",
        "The standard normal distribution is a special type of normal (bell-shaped) distribution that has:\n",
        "\n",
        "Mean (μ) = 0\n",
        "\n",
        "Standard deviation (σ) = 1\n",
        "\n",
        "It’s symmetric around 0.\n",
        "\n",
        "It’s basically the “normalized” form of any normal distribution, where the values are converted into z-scores.\n",
        "\n",
        "-------\n",
        "\n",
        "# Why It’s Important\n",
        "\n",
        "Simplifies calculations → Many probability tables and formulas are built for this standard form, so we don’t need separate tables for every mean/SD.\n",
        "\n",
        "Comparison across datasets → Converting values into z-scores lets us compare data from different distributions.\n",
        "\n",
        "Basis for statistical tests → Z-tests, confidence intervals, and hypothesis testing often use it.\n",
        "\n",
        "--------\n",
        "\n"
      ],
      "metadata": {
        "id": "Y6pTr-DDXFqe"
      }
    },
    {
      "cell_type": "markdown",
      "source": [
        "# Question 6: What is the Central Limit Theorem (CLT), and why is it critical in statistics?\n",
        "\n",
        "# Definition\n",
        "\n",
        "The Central Limit Theorem (CLT) says that:\n",
        "\n",
        "If you take many random samples from any population (no matter its original shape) and calculate their means, the distribution of those sample means will tend to be normal (bell-shaped) as the sample size grows large — usually n ≥ 30.\n",
        "\n",
        "--------\n",
        "\n",
        "Why It’s Critical\n",
        "\n",
        "1. Normality without normal data → It lets us use normal distribution tools (z-scores, confidence intervals, hypothesis tests) even when the original data isn’t normal.\n",
        "\n",
        "2. Foundation for inference → Many statistical methods depend on sample means being normally distributed.\n",
        "\n",
        "3. Predictability → It tells us that the mean of sample means = population mean, and the variability decreases as sample size increases.\n",
        "\n"
      ],
      "metadata": {
        "id": "5Lw2ftyjXsKH"
      }
    },
    {
      "cell_type": "markdown",
      "source": [
        "# Question 7: What is the significance of confidence intervals in statistical analysis?\n",
        "Confidence intervals are important in statistical analysis because they tell us how sure we are about an estimate and give us a range of plausible values instead of just a single number.\n",
        "\n",
        "-----------\n",
        "Here’s the breakdown:\n",
        "\n",
        "\n",
        "1. They quantify uncertainty\n",
        "\n",
        "    Instead of saying, “The average height is 170 cm,” we can say, “We’re 95% confident the average height is between 168 cm and 172 cm.”\n",
        "    This acknowledges that our estimate comes from a sample and may not be exact.\n",
        "\n",
        "\n",
        "2. They reflect sample size and variability\n",
        "\n",
        "     A narrow confidence interval means the estimate is precise (usually from a large sample or low variation).\n",
        "\n",
        "     A wide confidence interval means more uncertainty (small sample or high variation).\n"
      ],
      "metadata": {
        "id": "V96bWGEaYWWl"
      }
    },
    {
      "cell_type": "markdown",
      "source": [
        "# Question 8: What is the concept of expected value in a probability distribution?\n",
        "\n",
        "The expected value in a probability distribution is basically the long-run average outcome you’d expect if you repeated an experiment many times.\n",
        "\n",
        "It’s like saying:\n",
        "\n",
        "“If I keep doing this random process again and again, what’s the average result I’d get in the long run?”\n",
        "\n"
      ],
      "metadata": {
        "id": "rY30EsMwL1ns"
      }
    },
    {
      "cell_type": "markdown",
      "source": [
        "# Question 9: Write a Python program to generate 1000 random numbers from a normal distribution with mean = 50 and standard deviation = 5. Compute its mean and standard deviation using NumPy, and draw a histogram to visualize the distribution."
      ],
      "metadata": {
        "id": "eXuOMngCM6cf"
      }
    },
    {
      "cell_type": "code",
      "source": [
        "import numpy as np\n",
        "import matplotlib.pyplot as plt\n",
        "\n",
        "# Step 1: Generate 1000 random numbers from a normal distribution\n",
        "mean_val = 50\n",
        "std_dev = 5\n",
        "data = np.random.normal(mean_val, std_dev, 1000)\n",
        "\n",
        "# Step 2: Calculate mean and standard deviation using NumPy\n",
        "calculated_mean = np.mean(data)\n",
        "calculated_std = np.std(data)\n",
        "\n",
        "# Step 3: Display the computed values\n",
        "print(f\"Calculated Mean: {calculated_mean:.2f}\")\n",
        "print(f\"Calculated Standard Deviation: {calculated_std:.2f}\")\n",
        "\n",
        "# Step 4: Plot histogram\n",
        "plt.hist(data, bins=30, edgecolor='black', alpha=0.7)\n",
        "plt.title(\"Normal Distribution (Mean=50, Std Dev=5)\")\n",
        "plt.xlabel(\"Value\")\n",
        "plt.ylabel(\"Frequency\")\n",
        "plt.grid(True, linestyle='--', alpha=0.5)\n",
        "plt.show()\n"
      ],
      "metadata": {
        "colab": {
          "base_uri": "https://localhost:8080/",
          "height": 507
        },
        "id": "YmsFN-9TMqpa",
        "outputId": "930dc80d-84b5-453b-8d02-142a1172199f"
      },
      "execution_count": 1,
      "outputs": [
        {
          "output_type": "stream",
          "name": "stdout",
          "text": [
            "Calculated Mean: 50.13\n",
            "Calculated Standard Deviation: 4.96\n"
          ]
        },
        {
          "output_type": "display_data",
          "data": {
            "text/plain": [
              "<Figure size 640x480 with 1 Axes>"
            ],
            "image/png": "[encoded data removed]"
          },
          "metadata": {}
        }
      ]
    },
    {
      "cell_type": "markdown",
      "source": [
        "# Question 10: You are working as a data analyst for a retail company.The company has collected daily sales data for 2 years and wants you to identify the overall sales trend.\n",
        "\n",
        "\n",
        "# daily_sales = [220, 245, 210, 265, 230, 250, 260, 275, 240, 255, 235, 260, 245, 250, 225, 270, 265, 255, 250, 260]\n",
        "\n",
        "# ● Explain how you would apply the Central Limit Theorem to estimate the average sales with a 95% confidence interval.\n",
        "\n",
        "# ● Write the Python code to compute the mean sales and its confidence interval."
      ],
      "metadata": {
        "id": "TjNhbWEPOZby"
      }
    },
    {
      "cell_type": "code",
      "source": [
        "import numpy as np\n",
        "from scipy import stats\n",
        "\n",
        "# Daily sales data\n",
        "daily_sales = [220, 245, 210, 265, 230, 250, 260, 275, 240, 255,\n",
        "               235, 260, 245, 250, 225, 270, 265, 255, 250, 260]\n",
        "\n",
        "# Step 1: Calculate mean and standard deviation\n",
        "mean_sales = np.mean(daily_sales)\n",
        "std_sales = np.std(daily_sales, ddof=1)  # sample standard deviation\n",
        "\n",
        "# Step 2: Sample size\n",
        "n = len(daily_sales)\n",
        "\n",
        "# Step 3: Standard error\n",
        "standard_error = std_sales / np.sqrt(n)\n",
        "\n",
        "# Step 4: 95% confidence interval using CLT (Z = 1.96)\n",
        "confidence_level = 0.95\n",
        "z_value = stats.norm.ppf(1 - (1 - confidence_level) / 2)\n",
        "margin_of_error = z_value * standard_error\n",
        "\n",
        "lower_bound = mean_sales - margin_of_error\n",
        "upper_bound = mean_sales + margin_of_error\n",
        "\n",
        "# Step 5: Print results\n",
        "print(f\"Mean Sales: {mean_sales:.2f}\")\n",
        "print(f\"95% Confidence Interval: ({lower_bound:.2f}, {upper_bound:.2f})\")\n"
      ],
      "metadata": {
        "colab": {
          "base_uri": "https://localhost:8080/"
        },
        "id": "5IwHIBzyNgWZ",
        "outputId": "a5ba6243-cce7-457f-a084-b32a6be44d35"
      },
      "execution_count": 2,
      "outputs": [
        {
          "output_type": "stream",
          "name": "stdout",
          "text": [
            "Mean Sales: 248.25\n",
            "95% Confidence Interval: (240.68, 255.82)\n"
          ]
        }
      ]
    },
    {
      "cell_type": "code",
      "source": [],
      "metadata": {
        "id": "OAMAKoyxQCK5"
      },
      "execution_count": null,
      "outputs": []
    }
  ]
}